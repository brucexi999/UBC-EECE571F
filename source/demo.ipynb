{
 "cells": [
  {
   "cell_type": "code",
   "execution_count": 1,
   "metadata": {},
   "outputs": [],
   "source": [
    "import ray\n",
    "import numpy as np\n",
    "import matplotlib.pyplot as plt\n",
    "from environment import SimpleEnv\n",
    "from ray_gnn import MPNNModel\n",
    "from ray import tune, air\n",
    "from ray.tune.registry import register_env\n",
    "from ray.rllib.models import ModelCatalog\n",
    "from ray.rllib.utils.pre_checks.env import check_env\n",
    "from ray.rllib.algorithms.ppo import PPOConfig"
   ]
  },
  {
   "cell_type": "code",
   "execution_count": 8,
   "metadata": {},
   "outputs": [
    {
     "name": "stdout",
     "output_type": "stream",
     "text": [
      "episode: 0\n",
      "cumulative reward: -10\n"
     ]
    },
    {
     "data": {
      "image/png": "[encoded data removed]",
      "text/plain": [
       "<Figure size 640x480 with 1 Axes>"
      ]
     },
     "metadata": {},
     "output_type": "display_data"
    }
   ],
   "source": [
    "# instantiate the env\n",
    "length, width, capacity = 4, 4, 2\n",
    "edge_capacity = np.full((length,width,4),capacity)\n",
    "nets = [(0,0), (3,2)]\n",
    "macros = []\n",
    "env= SimpleEnv(length, width, nets, macros, edge_capacity)\n",
    "num_episodes = 1\n",
    "\n",
    "# render the env with random moves\n",
    "for ep in range(num_episodes):\n",
    "    total_reward = 0\n",
    "    obs = env.reset()\n",
    "    done = False\n",
    "    while True:\n",
    "        action = env.action_space.sample()\n",
    "        new_obs, reward, done, info = env.step(action)\n",
    "        total_reward += reward\n",
    "\n",
    "        if done:\n",
    "            break\n",
    "\n",
    "    print(f\"episode: {ep}\")\n",
    "    print(f\"cumulative reward: {total_reward}\")\n",
    "    env.render()"
   ]
  },
  {
   "cell_type": "code",
   "execution_count": 9,
   "metadata": {},
   "outputs": [
    {
     "name": "stderr",
     "output_type": "stream",
     "text": [
      "2023-11-24 10:16:27,159\tWARNING env.py:147 -- Your env doesn't have a .spec.max_episode_steps attribute. This is fine if you have set 'horizon' in your config dictionary, or `soft_horizon`. However, if you haven't, 'horizon' will default to infinity, and your environment will not be reset.\n"
     ]
    },
    {
     "name": "stdout",
     "output_type": "stream",
     "text": [
      "checking environment ...\n",
      "All checks passed. No errors found.\n"
     ]
    },
    {
     "name": "stderr",
     "output_type": "stream",
     "text": [
      "/home/brucexi2/anaconda3/lib/python3.10/site-packages/gym/spaces/box.py:142: UserWarning: \u001b[33mWARN: Casting input x to numpy array.\u001b[0m\n",
      "  logger.warn(\"Casting input x to numpy array.\")\n"
     ]
    }
   ],
   "source": [
    "# register and check the env\n",
    "register_env(\"simple_env\", lambda config: SimpleEnv(length, width, nets, macros, edge_capacity))\n",
    "\n",
    "print(\"checking environment ...\")\n",
    "try:\n",
    "    check_env(env)\n",
    "    print(\"All checks passed. No errors found.\")\n",
    "except:\n",
    "    print(\"failed\")\n",
    "    print(check_env(env))\n",
    "\n",
    "# register the custom model\n",
    "ModelCatalog.register_custom_model(\"custom_mpnn\", MPNNModel)"
   ]
  },
  {
   "cell_type": "code",
   "execution_count": 10,
   "metadata": {},
   "outputs": [],
   "source": [
    "# config everything\n",
    "config = (\n",
    "    PPOConfig()\n",
    "    .environment(env = \"simple_env\")\n",
    "    .framework(framework=\"torch\")\n",
    "    .evaluation(\n",
    "        evaluation_interval=15, \n",
    "        evaluation_duration=5,      \n",
    "        evaluation_num_workers=2,  #0 for Colab\n",
    "        evaluation_parallel_to_training=True, #False for Colab\n",
    "        evaluation_config = dict(\n",
    "            explore=False,\n",
    "            num_workers=1\n",
    "        ))\n",
    "    .rollouts(\n",
    "    num_rollout_workers=2, #1 for Colab\n",
    "    num_envs_per_worker=1)\n",
    "    .training(\n",
    "        model={\n",
    "            \"custom_model\": \"custom_mpnn\",\n",
    "            \"custom_model_config\": {  # This is the additional configuration for your model\n",
    "            \"node_features_dim\": 2,  # Replace with your actual value\n",
    "            \"edge_features_dim\": 1,  # Replace with your actual value\n",
    "            \"action_space_dim\": 4,  # Replace with your actual value\n",
    "            # Add other necessary configurations specific to your model\n",
    "            }\n",
    "        }#,\n",
    "        #_enable_learner_api=False\n",
    "    )\n",
    ")\n",
    "#config.rl_module(_enable_rl_module_api=False)\n",
    "stop_criteria = dict(training_iteration = 20)\n",
    "tuner = tune.Tuner(\n",
    "    config.algo_class,\n",
    "    param_space = config.to_dict(),\n",
    "    run_config = air.RunConfig(\n",
    "        local_dir = \"/home/brucexi2/UBC-EECE571F/checkpoint/trial\",\n",
    "        stop = stop_criteria,\n",
    "        verbose = 2,\n",
    "        checkpoint_config=air.CheckpointConfig(checkpoint_at_end=True)\n",
    "    )\n",
    ")\n",
    "#algo = config.build()"
   ]
  },
  {
   "cell_type": "code",
   "execution_count": 11,
   "metadata": {},
   "outputs": [
    {
     "name": "stderr",
     "output_type": "stream",
     "text": [
      "2023-11-24 10:18:17,872\tINFO worker.py:1538 -- Started a local Ray instance.\n"
     ]
    },
    {
     "data": {
      "text/html": [
       "<div class=\"tuneStatus\">\n",
       "  <div style=\"display: flex;flex-direction: row\">\n",
       "    <div style=\"display: flex;flex-direction: column;\">\n",
       "      <h3>Tune Status</h3>\n",
       "      <table>\n",
       "<tbody>\n",
       "<tr><td>Current time:</td><td>2023-11-24 12:12:10</td></tr>\n",
       "<tr><td>Running for: </td><td>01:53:51.53        </td></tr>\n",
       "<tr><td>Memory:      </td><td>10.0/15.4 GiB      </td></tr>\n",
       "</tbody>\n",
       "</table>\n",
       "    </div>\n",
       "    <div class=\"vDivider\"></div>\n",
       "    <div class=\"systemInfo\">\n",
       "      <h3>System Info</h3>\n",
       "      Using FIFO scheduling algorithm.<br>Resources requested: 0/8 CPUs, 0/0 GPUs, 0.0/7.24 GiB heap, 0.0/3.62 GiB objects\n",
       "    </div>\n",
       "    \n",
       "  </div>\n",
       "  <div class=\"hDivider\"></div>\n",
       "  <div class=\"trialStatus\">\n",
       "    <h3>Trial Status</h3>\n",
       "    <table>\n",
       "<thead>\n",
       "<tr><th>Trial name                </th><th>status    </th><th>loc           </th><th style=\"text-align: right;\">  iter</th><th style=\"text-align: right;\">  total time (s)</th><th style=\"text-align: right;\">   ts</th><th style=\"text-align: right;\">  reward</th><th style=\"text-align: right;\">  episode_reward_max</th><th style=\"text-align: right;\">  episode_reward_min</th><th style=\"text-align: right;\">  episode_len_mean</th></tr>\n",
       "</thead>\n",
       "<tbody>\n",
       "<tr><td>PPO_simple_env_d7cbc_00000</td><td>TERMINATED</td><td>10.0.0.82:5156</td><td style=\"text-align: right;\">    20</td><td style=\"text-align: right;\">         6818.21</td><td style=\"text-align: right;\">80000</td><td style=\"text-align: right;\"> 57.3731</td><td style=\"text-align: right;\">                  96</td><td style=\"text-align: right;\">                 -10</td><td style=\"text-align: right;\">           7.69423</td></tr>\n",
       "</tbody>\n",
       "</table>\n",
       "  </div>\n",
       "</div>\n",
       "<style>\n",
       ".tuneStatus {\n",
       "  color: var(--jp-ui-font-color1);\n",
       "}\n",
       ".tuneStatus .systemInfo {\n",
       "  display: flex;\n",
       "  flex-direction: column;\n",
       "}\n",
       ".tuneStatus td {\n",
       "  white-space: nowrap;\n",
       "}\n",
       ".tuneStatus .trialStatus {\n",
       "  display: flex;\n",
       "  flex-direction: column;\n",
       "}\n",
       ".tuneStatus h3 {\n",
       "  font-weight: bold;\n",
       "}\n",
       ".tuneStatus .hDivider {\n",
       "  border-bottom-width: var(--jp-border-width);\n",
       "  border-bottom-color: var(--jp-border-color0);\n",
       "  border-bottom-style: solid;\n",
       "}\n",
       ".tuneStatus .vDivider {\n",
       "  border-left-width: var(--jp-border-width);\n",
       "  border-left-color: var(--jp-border-color0);\n",
       "  border-left-style: solid;\n",
       "  margin: 0.5em 1em 0.5em 1em;\n",
       "}\n",
       "</style>\n"
      ],
      "text/plain": [
       "<IPython.core.display.HTML object>"
      ]
     },
     "metadata": {},
     "output_type": "display_data"
    },
    {
     "name": "stderr",
     "output_type": "stream",
     "text": [
      "\u001b[2m\u001b[36m(PPO pid=5156)\u001b[0m 2023-11-24 10:18:22,223\tWARNING algorithm_config.py:488 -- Cannot create PPOConfig from given `config_dict`! Property __stdout_file__ not supported.\n",
      "\u001b[2m\u001b[36m(PPO pid=5156)\u001b[0m 2023-11-24 10:18:22,739\tINFO algorithm.py:501 -- Current log_level is WARN. For more information, set 'log_level': 'INFO' / 'DEBUG' or use the -v and -vv flags.\n",
      "\u001b[2m\u001b[36m(RolloutWorker pid=5219)\u001b[0m /home/brucexi2/anaconda3/lib/python3.10/site-packages/gym/spaces/box.py:142: UserWarning: \u001b[33mWARN: Casting input x to numpy array.\u001b[0m\n",
      "\u001b[2m\u001b[36m(RolloutWorker pid=5219)\u001b[0m   logger.warn(\"Casting input x to numpy array.\")\n",
      "\u001b[2m\u001b[36m(RolloutWorker pid=5219)\u001b[0m 2023-11-24 10:18:26,821\tWARNING catalog.py:637 -- Custom ModelV2 should accept all custom options as **kwargs, instead of expecting them in config['custom_model_config']!\n",
      "\u001b[2m\u001b[36m(RolloutWorker pid=5218)\u001b[0m 2023-11-24 10:18:26,852\tWARNING env.py:147 -- Your env doesn't have a .spec.max_episode_steps attribute. This is fine if you have set 'horizon' in your config dictionary, or `soft_horizon`. However, if you haven't, 'horizon' will default to infinity, and your environment will not be reset.\n",
      "\u001b[2m\u001b[36m(RolloutWorker pid=5218)\u001b[0m /home/brucexi2/anaconda3/lib/python3.10/site-packages/gym/spaces/box.py:142: UserWarning: \u001b[33mWARN: Casting input x to numpy array.\u001b[0m\n",
      "\u001b[2m\u001b[36m(RolloutWorker pid=5218)\u001b[0m   logger.warn(\"Casting input x to numpy array.\")\n",
      "\u001b[2m\u001b[36m(RolloutWorker pid=5218)\u001b[0m 2023-11-24 10:18:26,860\tWARNING catalog.py:637 -- Custom ModelV2 should accept all custom options as **kwargs, instead of expecting them in config['custom_model_config']!\n",
      "\u001b[2m\u001b[36m(PPO pid=5156)\u001b[0m 2023-11-24 10:18:27,108\tWARNING catalog.py:637 -- Custom ModelV2 should accept all custom options as **kwargs, instead of expecting them in config['custom_model_config']!\n",
      "\u001b[2m\u001b[36m(RolloutWorker pid=5333)\u001b[0m /home/brucexi2/anaconda3/lib/python3.10/site-packages/gym/spaces/box.py:142: UserWarning: \u001b[33mWARN: Casting input x to numpy array.\u001b[0m\n",
      "\u001b[2m\u001b[36m(RolloutWorker pid=5333)\u001b[0m   logger.warn(\"Casting input x to numpy array.\")\n",
      "\u001b[2m\u001b[36m(RolloutWorker pid=5333)\u001b[0m 2023-11-24 10:18:31,369\tWARNING catalog.py:637 -- Custom ModelV2 should accept all custom options as **kwargs, instead of expecting them in config['custom_model_config']!\n",
      "\u001b[2m\u001b[36m(RolloutWorker pid=5332)\u001b[0m 2023-11-24 10:18:31,401\tWARNING env.py:147 -- Your env doesn't have a .spec.max_episode_steps attribute. This is fine if you have set 'horizon' in your config dictionary, or `soft_horizon`. However, if you haven't, 'horizon' will default to infinity, and your environment will not be reset.\n",
      "\u001b[2m\u001b[36m(RolloutWorker pid=5332)\u001b[0m /home/brucexi2/anaconda3/lib/python3.10/site-packages/gym/spaces/box.py:142: UserWarning: \u001b[33mWARN: Casting input x to numpy array.\u001b[0m\n",
      "\u001b[2m\u001b[36m(RolloutWorker pid=5332)\u001b[0m   logger.warn(\"Casting input x to numpy array.\")\n",
      "\u001b[2m\u001b[36m(RolloutWorker pid=5332)\u001b[0m 2023-11-24 10:18:31,409\tWARNING catalog.py:637 -- Custom ModelV2 should accept all custom options as **kwargs, instead of expecting them in config['custom_model_config']!\n",
      "\u001b[2m\u001b[36m(PPO pid=5156)\u001b[0m 2023-11-24 10:18:31,632\tWARNING util.py:66 -- Install gputil for GPU system monitoring.\n",
      "\u001b[2m\u001b[36m(RolloutWorker pid=5219)\u001b[0m /home/brucexi2/anaconda3/lib/python3.10/site-packages/gym/spaces/box.py:142: UserWarning: \u001b[33mWARN: Casting input x to numpy array.\u001b[0m\n",
      "\u001b[2m\u001b[36m(RolloutWorker pid=5219)\u001b[0m   logger.warn(\"Casting input x to numpy array.\")\n",
      "\u001b[2m\u001b[36m(RolloutWorker pid=5218)\u001b[0m /home/brucexi2/anaconda3/lib/python3.10/site-packages/gym/spaces/box.py:142: UserWarning: \u001b[33mWARN: Casting input x to numpy array.\u001b[0m\n",
      "\u001b[2m\u001b[36m(RolloutWorker pid=5218)\u001b[0m   logger.warn(\"Casting input x to numpy array.\")\n"
     ]
    },
    {
     "data": {
      "text/html": [
       "<div class=\"trialProgress\">\n",
       "  <h3>Trial Progress</h3>\n",
       "  <table>\n",
       "<thead>\n",
       "<tr><th>Trial name                </th><th style=\"text-align: right;\">  agent_timesteps_total</th><th>counters                                                                                                                            </th><th>custom_metrics  </th><th style=\"text-align: right;\">  episode_len_mean</th><th>episode_media  </th><th style=\"text-align: right;\">  episode_reward_max</th><th style=\"text-align: right;\">  episode_reward_mean</th><th style=\"text-align: right;\">  episode_reward_min</th><th style=\"text-align: right;\">  episodes_this_iter</th><th>info                                                                                                                                                                                                                                                                                                                                                                                                                                                                                                                                                                                                                                                                                                                        </th><th style=\"text-align: right;\">  num_agent_steps_sampled</th><th style=\"text-align: right;\">  num_agent_steps_trained</th><th style=\"text-align: right;\">  num_env_steps_sampled</th><th style=\"text-align: right;\">  num_env_steps_sampled_this_iter</th><th style=\"text-align: right;\">  num_env_steps_trained</th><th style=\"text-align: right;\">  num_env_steps_trained_this_iter</th><th style=\"text-align: right;\">  num_faulty_episodes</th><th style=\"text-align: right;\">  num_healthy_workers</th><th style=\"text-align: right;\">  num_in_flight_async_reqs</th><th style=\"text-align: right;\">  num_remote_worker_restarts</th><th style=\"text-align: right;\">  num_steps_trained_this_iter</th><th>perf                                                                           </th><th>policy_reward_max  </th><th>policy_reward_mean  </th><th>policy_reward_min  </th><th>sampler_perf                                                                                                                                                                                                     </th><th>sampler_results                                                                                                                                                                                                                                                                                                                                                                                                                                                                                                                                                                                                                                                                                                                                                                                                                                                                                                                                                                                                                                                                                                                                                                                                                                                                                                                                                                                                                                                                                                                                                                                                                                                                                                                                                                                                                                                                                                                                                                                                                                                                                                                                                                                                                                                                                                                                                                                                                                                                                                                                                                                                                                                                                                                                                                                                                                                                                                                                                                                                                                                                                                                                                                                                                                                                                                                                                                                                                                                                                                                                                                                                                                                                                                                                                                                                                                                                                                                                                                                                                                                                                                                                                                                                                                                                                                                                                                                                                                                                                                                                                                                                                                                                                                                                                                                                                                                                                                                                                                                                                                                                                                                                                                                                                                                                                                                                                                                                                                                                                                                                                                                                                                                                                                                                                                                                                                                                                  </th><th>timers                                                                                                                                                                                     </th></tr>\n",
       "</thead>\n",
       "<tbody>\n",
       "<tr><td>PPO_simple_env_d7cbc_00000</td><td style=\"text-align: right;\">                  80000</td><td>{&#x27;num_env_steps_sampled&#x27;: 80000, &#x27;num_env_steps_trained&#x27;: 80000, &#x27;num_agent_steps_sampled&#x27;: 80000, &#x27;num_agent_steps_trained&#x27;: 80000}</td><td>{}              </td><td style=\"text-align: right;\">           7.69423</td><td>{}             </td><td style=\"text-align: right;\">                  96</td><td style=\"text-align: right;\">              57.3731</td><td style=\"text-align: right;\">                 -10</td><td style=\"text-align: right;\">                 520</td><td>{&#x27;learner&#x27;: {&#x27;default_policy&#x27;: {&#x27;learner_stats&#x27;: {&#x27;allreduce_latency&#x27;: 0.0, &#x27;grad_gnorm&#x27;: 4.229324848228885, &#x27;cur_kl_coeff&#x27;: 2.4414062500000005e-05, &#x27;cur_lr&#x27;: 5.0000000000000016e-05, &#x27;total_loss&#x27;: 6.952637637046076, &#x27;policy_loss&#x27;: 0.0055934379347950544, &#x27;vf_loss&#x27;: 6.947044149521859, &#x27;vf_explained_var&#x27;: -0.004740860769825597, &#x27;kl&#x27;: 0.0035619796251779344, &#x27;entropy&#x27;: 0.6479515232706583, &#x27;entropy_coeff&#x27;: 0.0}, &#x27;model&#x27;: {}, &#x27;custom_metrics&#x27;: {}, &#x27;num_agent_steps_trained&#x27;: 128.0, &#x27;num_grad_updates_lifetime&#x27;: 18135.5, &#x27;diff_num_grad_updates_vs_sampler_policy&#x27;: 464.5}}, &#x27;num_env_steps_sampled&#x27;: 80000, &#x27;num_env_steps_trained&#x27;: 80000, &#x27;num_agent_steps_sampled&#x27;: 80000, &#x27;num_agent_steps_trained&#x27;: 80000}</td><td style=\"text-align: right;\">                    80000</td><td style=\"text-align: right;\">                    80000</td><td style=\"text-align: right;\">                  80000</td><td style=\"text-align: right;\">                             4000</td><td style=\"text-align: right;\">                  80000</td><td style=\"text-align: right;\">                             4000</td><td style=\"text-align: right;\">                    0</td><td style=\"text-align: right;\">                    2</td><td style=\"text-align: right;\">                         0</td><td style=\"text-align: right;\">                           0</td><td style=\"text-align: right;\">                         4000</td><td>{&#x27;cpu_util_percent&#x27;: 13.836206896551724, &#x27;ram_util_percent&#x27;: 65.11228448275862}</td><td>{}                 </td><td>{}                  </td><td>{}                 </td><td>{&#x27;mean_raw_obs_processing_ms&#x27;: 0.2866589867018052, &#x27;mean_inference_ms&#x27;: 1.6551264803354457, &#x27;mean_action_processing_ms&#x27;: 0.03931231495673916, &#x27;mean_env_wait_ms&#x27;: 0.08840358034263282, &#x27;mean_env_render_ms&#x27;: 0.0}</td><td>{&#x27;episode_reward_max&#x27;: 96.0, &#x27;episode_reward_min&#x27;: -10.0, &#x27;episode_reward_mean&#x27;: 57.37307692307692, &#x27;episode_len_mean&#x27;: 7.694230769230769, &#x27;episode_media&#x27;: {}, &#x27;episodes_this_iter&#x27;: 520, &#x27;policy_reward_min&#x27;: {}, &#x27;policy_reward_max&#x27;: {}, &#x27;policy_reward_mean&#x27;: {}, &#x27;custom_metrics&#x27;: {}, &#x27;hist_stats&#x27;: {&#x27;episode_reward&#x27;: [96.0, 92.0, -10.0, -10.0, -10.0, 94.0, -10.0, 91.0, 95.0, -10.0, 96.0, 91.0, 95.0, 94.0, 96.0, 96.0, 96.0, 96.0, -10.0, 96.0, -10.0, 93.0, 96.0, 96.0, 96.0, 96.0, 93.0, 96.0, 93.0, 93.0, 94.0, -10.0, -10.0, 93.0, -10.0, 94.0, -10.0, 96.0, 92.0, 96.0, -10.0, 96.0, -10.0, 96.0, -10.0, -10.0, 96.0, -10.0, 95.0, -10.0, 92.0, -10.0, 96.0, 94.0, 96.0, -10.0, -10.0, 96.0, 93.0, 96.0, 93.0, 94.0, -10.0, 92.0, 94.0, 93.0, 93.0, -10.0, 95.0, 95.0, -10.0, -10.0, 95.0, 94.0, 95.0, -10.0, 96.0, 96.0, -10.0, 94.0, 95.0, 96.0, -10.0, 96.0, 95.0, 93.0, 96.0, 95.0, -10.0, -10.0, -10.0, 96.0, 93.0, 93.0, -10.0, 96.0, 96.0, 96.0, 96.0, 96.0, 96.0, 95.0, 95.0, -10.0, -10.0, -10.0, -10.0, 95.0, 91.0, 96.0, 96.0, -10.0, 95.0, -10.0, 93.0, 94.0, -10.0, 96.0, 95.0, 93.0, 96.0, 93.0, 96.0, 96.0, 96.0, 93.0, 95.0, 96.0, -10.0, -10.0, 96.0, 93.0, 96.0, 91.0, 91.0, -10.0, 91.0, -10.0, 95.0, 92.0, 95.0, 96.0, 96.0, 95.0, -10.0, -10.0, 96.0, 94.0, -10.0, -10.0, 96.0, -10.0, -10.0, -10.0, 96.0, 95.0, 96.0, 95.0, 92.0, 96.0, -10.0, -10.0, 94.0, 91.0, 93.0, 94.0, 95.0, 94.0, 95.0, 96.0, 96.0, 94.0, 96.0, -10.0, 94.0, 95.0, -10.0, 95.0, -10.0, -10.0, -10.0, 95.0, 96.0, 92.0, 92.0, -10.0, 96.0, 96.0, 95.0, 95.0, -10.0, 94.0, -10.0, 92.0, 96.0, -10.0, 95.0, 92.0, 95.0, -10.0, 94.0, 94.0, -10.0, 94.0, -10.0, 94.0, 94.0, -10.0, 96.0, 96.0, 93.0, 92.0, 95.0, -10.0, 94.0, -10.0, -10.0, -10.0, -10.0, 91.0, 92.0, -10.0, -10.0, 96.0, -10.0, 96.0, -10.0, 95.0, 91.0, 95.0, 94.0, 96.0, -10.0, -10.0, 96.0, 92.0, 91.0, -10.0, -10.0, 96.0, -10.0, 95.0, 93.0, 96.0, 95.0, 92.0, -10.0, -10.0, -10.0, 96.0, 96.0, 95.0, 92.0, 95.0, 91.0, 91.0, 95.0, 96.0, -10.0, 96.0, -10.0, 96.0, 96.0, 91.0, 94.0, 96.0, 96.0, 96.0, 96.0, 96.0, -10.0, -10.0, 96.0, 95.0, -10.0, -10.0, 96.0, -10.0, 95.0, -10.0, 92.0, 96.0, 94.0, -10.0, -10.0, 96.0, -10.0, 96.0, -10.0, 96.0, -10.0, 93.0, 96.0, -10.0, 96.0, -10.0, -10.0, -10.0, 96.0, -10.0, -10.0, -10.0, 92.0, 95.0, -10.0, 95.0, 96.0, -10.0, 94.0, -10.0, -10.0, -10.0, -10.0, -10.0, -10.0, 92.0, -10.0, 95.0, 96.0, -10.0, 96.0, 96.0, -10.0, -10.0, 96.0, 96.0, 96.0, 96.0, -10.0, 93.0, -10.0, 96.0, 96.0, -10.0, 96.0, -10.0, 96.0, -10.0, 94.0, -10.0, 92.0, 95.0, -10.0, -10.0, -10.0, -10.0, 96.0, 92.0, 96.0, 92.0, 93.0, 96.0, 95.0, 96.0, 95.0, 94.0, -10.0, -10.0, 92.0, 95.0, 96.0, -10.0, 91.0, -10.0, -10.0, 92.0, 92.0, 96.0, -10.0, -10.0, 94.0, 96.0, -10.0, 92.0, 94.0, 96.0, 93.0, 95.0, 93.0, 92.0, -10.0, 96.0, -10.0, 94.0, 93.0, 94.0, 95.0, -10.0, 95.0, 95.0, 93.0, 95.0, 96.0, 96.0, -10.0, 94.0, -10.0, 96.0, -10.0, 96.0, 92.0, 95.0, -10.0, -10.0, -10.0, -10.0, 91.0, 96.0, -10.0, 95.0, 94.0, 94.0, 96.0, 94.0, 94.0, -10.0, 95.0, 96.0, -10.0, -10.0, 91.0, -10.0, 96.0, -10.0, -10.0, 96.0, 94.0, 95.0, -10.0, 95.0, -10.0, 96.0, 91.0, 94.0, -10.0, 95.0, 96.0, 95.0, 91.0, 96.0, 92.0, 94.0, 94.0, 94.0, -10.0, 91.0, -10.0, -10.0, 94.0, 94.0, 94.0, -10.0, 95.0, -10.0, -10.0, 96.0, 95.0, -10.0, -10.0, -10.0, 92.0, 92.0, -10.0, -10.0, 95.0, -10.0, -10.0, 96.0, -10.0, 96.0, 94.0, 96.0, 95.0, -10.0, -10.0, -10.0, 93.0, 96.0, -10.0, 96.0, -10.0, 96.0, -10.0, 96.0, -10.0, 96.0, 96.0, 96.0, 94.0, -10.0, -10.0, 96.0, 95.0, 96.0, 96.0, -10.0, 96.0, 95.0, -10.0, -10.0, 91.0, -10.0, -10.0, -10.0, 93.0, -10.0, 96.0, 96.0, -10.0, -10.0, -10.0, 91.0, 96.0, -10.0, 95.0, 96.0, 96.0, 95.0, 96.0, 95.0], &#x27;episode_lengths&#x27;: [5, 9, 10, 10, 10, 7, 10, 10, 6, 10, 5, 10, 6, 7, 5, 5, 5, 5, 10, 5, 10, 8, 5, 5, 5, 5, 8, 5, 8, 8, 7, 10, 10, 8, 10, 7, 10, 5, 9, 5, 10, 5, 10, 5, 10, 10, 5, 10, 6, 10, 9, 10, 5, 7, 5, 10, 10, 5, 8, 5, 8, 7, 10, 9, 7, 8, 8, 10, 6, 6, 10, 10, 6, 7, 6, 10, 5, 5, 10, 7, 6, 5, 10, 5, 6, 8, 5, 6, 10, 10, 10, 5, 8, 8, 10, 5, 5, 5, 5, 5, 5, 6, 6, 10, 10, 10, 10, 6, 10, 5, 5, 10, 6, 10, 8, 7, 10, 5, 6, 8, 5, 8, 5, 5, 5, 8, 6, 5, 10, 10, 5, 8, 5, 10, 10, 10, 10, 10, 6, 9, 6, 5, 5, 6, 10, 10, 5, 7, 10, 10, 5, 10, 10, 10, 5, 6, 5, 6, 9, 5, 10, 10, 7, 10, 8, 7, 6, 7, 6, 5, 5, 7, 5, 10, 7, 6, 10, 6, 10, 10, 10, 6, 5, 9, 9, 10, 5, 5, 6, 6, 10, 7, 10, 9, 5, 10, 6, 9, 6, 10, 7, 7, 10, 7, 10, 7, 7, 10, 5, 5, 8, 9, 6, 10, 7, 10, 10, 10, 10, 10, 9, 10, 10, 5, 10, 5, 10, 6, 10, 6, 7, 5, 10, 10, 5, 9, 10, 10, 10, 5, 10, 6, 8, 5, 6, 9, 10, 10, 10, 5, 5, 6, 9, 6, 10, 10, 6, 5, 10, 5, 10, 5, 5, 10, 7, 5, 5, 5, 5, 5, 10, 10, 5, 6, 10, 10, 5, 10, 6, 10, 9, 5, 7, 10, 10, 5, 10, 5, 10, 5, 10, 8, 5, 10, 5, 10, 10, 10, 5, 10, 10, 10, 9, 6, 10, 6, 5, 10, 7, 10, 10, 10, 10, 10, 10, 9, 10, 6, 5, 10, 5, 5, 10, 10, 5, 5, 5, 5, 10, 8, 10, 5, 5, 10, 5, 10, 5, 10, 7, 10, 9, 6, 10, 10, 10, 10, 5, 9, 5, 9, 8, 5, 6, 5, 6, 7, 10, 10, 9, 6, 5, 10, 10, 10, 10, 9, 9, 5, 10, 10, 7, 5, 10, 9, 7, 5, 8, 6, 8, 9, 10, 5, 10, 7, 8, 7, 6, 10, 6, 6, 8, 6, 5, 5, 10, 7, 10, 5, 10, 5, 9, 6, 10, 10, 10, 10, 10, 5, 10, 6, 7, 7, 5, 7, 7, 10, 6, 5, 10, 10, 10, 10, 5, 10, 10, 5, 7, 6, 10, 6, 10, 5, 10, 7, 10, 6, 5, 6, 10, 5, 9, 7, 7, 7, 10, 10, 10, 10, 7, 7, 7, 10, 6, 10, 10, 5, 6, 10, 10, 10, 9, 9, 10, 10, 6, 10, 10, 5, 10, 5, 7, 5, 6, 10, 10, 10, 8, 5, 10, 5, 10, 5, 10, 5, 10, 5, 5, 5, 7, 10, 10, 5, 6, 5, 5, 10, 5, 6, 10, 10, 10, 10, 10, 10, 8, 10, 5, 5, 10, 10, 10, 10, 5, 10, 6, 5, 5, 6, 5, 6]}, &#x27;sampler_perf&#x27;: {&#x27;mean_raw_obs_processing_ms&#x27;: 0.2866589867018052, &#x27;mean_inference_ms&#x27;: 1.6551264803354457, &#x27;mean_action_processing_ms&#x27;: 0.03931231495673916, &#x27;mean_env_wait_ms&#x27;: 0.08840358034263282, &#x27;mean_env_render_ms&#x27;: 0.0}, &#x27;num_faulty_episodes&#x27;: 0}</td><td>{&#x27;training_iteration_time_ms&#x27;: 338329.126, &#x27;load_time_ms&#x27;: 0.339, &#x27;load_throughput&#x27;: 11815772.942, &#x27;learn_time_ms&#x27;: 334193.118, &#x27;learn_throughput&#x27;: 11.969, &#x27;synch_weights_time_ms&#x27;: 1.409}</td></tr>\n",
       "</tbody>\n",
       "</table>\n",
       "</div>\n",
       "<style>\n",
       ".trialProgress {\n",
       "  display: flex;\n",
       "  flex-direction: column;\n",
       "  color: var(--jp-ui-font-color1);\n",
       "}\n",
       ".trialProgress h3 {\n",
       "  font-weight: bold;\n",
       "}\n",
       ".trialProgress td {\n",
       "  white-space: nowrap;\n",
       "}\n",
       "</style>\n"
      ],
      "text/plain": [
       "<IPython.core.display.HTML object>"
      ]
     },
     "metadata": {},
     "output_type": "display_data"
    },
    {
     "name": "stderr",
     "output_type": "stream",
     "text": [
      "\u001b[2m\u001b[36m(RolloutWorker pid=5219)\u001b[0m /home/brucexi2/anaconda3/lib/python3.10/site-packages/gym/spaces/box.py:142: UserWarning: \u001b[33mWARN: Casting input x to numpy array.\u001b[0m\n",
      "\u001b[2m\u001b[36m(RolloutWorker pid=5219)\u001b[0m   logger.warn(\"Casting input x to numpy array.\")\n",
      "\u001b[2m\u001b[36m(RolloutWorker pid=5218)\u001b[0m /home/brucexi2/anaconda3/lib/python3.10/site-packages/gym/spaces/box.py:142: UserWarning: \u001b[33mWARN: Casting input x to numpy array.\u001b[0m\n",
      "\u001b[2m\u001b[36m(RolloutWorker pid=5218)\u001b[0m   logger.warn(\"Casting input x to numpy array.\")\n",
      "\u001b[2m\u001b[36m(RolloutWorker pid=5219)\u001b[0m /home/brucexi2/anaconda3/lib/python3.10/site-packages/gym/spaces/box.py:142: UserWarning: \u001b[33mWARN: Casting input x to numpy array.\u001b[0m\n",
      "\u001b[2m\u001b[36m(RolloutWorker pid=5219)\u001b[0m   logger.warn(\"Casting input x to numpy array.\")\n",
      "\u001b[2m\u001b[36m(RolloutWorker pid=5218)\u001b[0m /home/brucexi2/anaconda3/lib/python3.10/site-packages/gym/spaces/box.py:142: UserWarning: \u001b[33mWARN: Casting input x to numpy array.\u001b[0m\n",
      "\u001b[2m\u001b[36m(RolloutWorker pid=5218)\u001b[0m   logger.warn(\"Casting input x to numpy array.\")\n",
      "\u001b[2m\u001b[36m(RolloutWorker pid=5219)\u001b[0m /home/brucexi2/anaconda3/lib/python3.10/site-packages/gym/spaces/box.py:142: UserWarning: \u001b[33mWARN: Casting input x to numpy array.\u001b[0m\n",
      "\u001b[2m\u001b[36m(RolloutWorker pid=5219)\u001b[0m   logger.warn(\"Casting input x to numpy array.\")\n",
      "\u001b[2m\u001b[36m(RolloutWorker pid=5218)\u001b[0m /home/brucexi2/anaconda3/lib/python3.10/site-packages/gym/spaces/box.py:142: UserWarning: \u001b[33mWARN: Casting input x to numpy array.\u001b[0m\n",
      "\u001b[2m\u001b[36m(RolloutWorker pid=5218)\u001b[0m   logger.warn(\"Casting input x to numpy array.\")\n",
      "\u001b[2m\u001b[36m(RolloutWorker pid=5219)\u001b[0m /home/brucexi2/anaconda3/lib/python3.10/site-packages/gym/spaces/box.py:142: UserWarning: \u001b[33mWARN: Casting input x to numpy array.\u001b[0m\n",
      "\u001b[2m\u001b[36m(RolloutWorker pid=5219)\u001b[0m   logger.warn(\"Casting input x to numpy array.\")\n",
      "\u001b[2m\u001b[36m(RolloutWorker pid=5218)\u001b[0m /home/brucexi2/anaconda3/lib/python3.10/site-packages/gym/spaces/box.py:142: UserWarning: \u001b[33mWARN: Casting input x to numpy array.\u001b[0m\n",
      "\u001b[2m\u001b[36m(RolloutWorker pid=5218)\u001b[0m   logger.warn(\"Casting input x to numpy array.\")\n",
      "\u001b[2m\u001b[36m(RolloutWorker pid=5219)\u001b[0m /home/brucexi2/anaconda3/lib/python3.10/site-packages/gym/spaces/box.py:142: UserWarning: \u001b[33mWARN: Casting input x to numpy array.\u001b[0m\n",
      "\u001b[2m\u001b[36m(RolloutWorker pid=5219)\u001b[0m   logger.warn(\"Casting input x to numpy array.\")\n",
      "\u001b[2m\u001b[36m(RolloutWorker pid=5218)\u001b[0m /home/brucexi2/anaconda3/lib/python3.10/site-packages/gym/spaces/box.py:142: UserWarning: \u001b[33mWARN: Casting input x to numpy array.\u001b[0m\n",
      "\u001b[2m\u001b[36m(RolloutWorker pid=5218)\u001b[0m   logger.warn(\"Casting input x to numpy array.\")\n",
      "\u001b[2m\u001b[36m(RolloutWorker pid=5219)\u001b[0m /home/brucexi2/anaconda3/lib/python3.10/site-packages/gym/spaces/box.py:142: UserWarning: \u001b[33mWARN: Casting input x to numpy array.\u001b[0m\n",
      "\u001b[2m\u001b[36m(RolloutWorker pid=5219)\u001b[0m   logger.warn(\"Casting input x to numpy array.\")\n",
      "\u001b[2m\u001b[36m(RolloutWorker pid=5218)\u001b[0m /home/brucexi2/anaconda3/lib/python3.10/site-packages/gym/spaces/box.py:142: UserWarning: \u001b[33mWARN: Casting input x to numpy array.\u001b[0m\n",
      "\u001b[2m\u001b[36m(RolloutWorker pid=5218)\u001b[0m   logger.warn(\"Casting input x to numpy array.\")\n",
      "\u001b[2m\u001b[36m(RolloutWorker pid=5219)\u001b[0m /home/brucexi2/anaconda3/lib/python3.10/site-packages/gym/spaces/box.py:142: UserWarning: \u001b[33mWARN: Casting input x to numpy array.\u001b[0m\n",
      "\u001b[2m\u001b[36m(RolloutWorker pid=5219)\u001b[0m   logger.warn(\"Casting input x to numpy array.\")\n",
      "\u001b[2m\u001b[36m(RolloutWorker pid=5218)\u001b[0m /home/brucexi2/anaconda3/lib/python3.10/site-packages/gym/spaces/box.py:142: UserWarning: \u001b[33mWARN: Casting input x to numpy array.\u001b[0m\n",
      "\u001b[2m\u001b[36m(RolloutWorker pid=5218)\u001b[0m   logger.warn(\"Casting input x to numpy array.\")\n",
      "\u001b[2m\u001b[36m(RolloutWorker pid=5218)\u001b[0m /home/brucexi2/anaconda3/lib/python3.10/site-packages/gym/spaces/box.py:142: UserWarning: \u001b[33mWARN: Casting input x to numpy array.\u001b[0m\n",
      "\u001b[2m\u001b[36m(RolloutWorker pid=5218)\u001b[0m   logger.warn(\"Casting input x to numpy array.\")\n",
      "\u001b[2m\u001b[36m(RolloutWorker pid=5219)\u001b[0m /home/brucexi2/anaconda3/lib/python3.10/site-packages/gym/spaces/box.py:142: UserWarning: \u001b[33mWARN: Casting input x to numpy array.\u001b[0m\n",
      "\u001b[2m\u001b[36m(RolloutWorker pid=5219)\u001b[0m   logger.warn(\"Casting input x to numpy array.\")\n",
      "\u001b[2m\u001b[36m(RolloutWorker pid=5219)\u001b[0m /home/brucexi2/anaconda3/lib/python3.10/site-packages/gym/spaces/box.py:142: UserWarning: \u001b[33mWARN: Casting input x to numpy array.\u001b[0m\n",
      "\u001b[2m\u001b[36m(RolloutWorker pid=5219)\u001b[0m   logger.warn(\"Casting input x to numpy array.\")\n",
      "\u001b[2m\u001b[36m(RolloutWorker pid=5218)\u001b[0m /home/brucexi2/anaconda3/lib/python3.10/site-packages/gym/spaces/box.py:142: UserWarning: \u001b[33mWARN: Casting input x to numpy array.\u001b[0m\n",
      "\u001b[2m\u001b[36m(RolloutWorker pid=5218)\u001b[0m   logger.warn(\"Casting input x to numpy array.\")\n",
      "\u001b[2m\u001b[36m(RolloutWorker pid=5219)\u001b[0m /home/brucexi2/anaconda3/lib/python3.10/site-packages/gym/spaces/box.py:142: UserWarning: \u001b[33mWARN: Casting input x to numpy array.\u001b[0m\n",
      "\u001b[2m\u001b[36m(RolloutWorker pid=5219)\u001b[0m   logger.warn(\"Casting input x to numpy array.\")\n",
      "\u001b[2m\u001b[36m(RolloutWorker pid=5218)\u001b[0m /home/brucexi2/anaconda3/lib/python3.10/site-packages/gym/spaces/box.py:142: UserWarning: \u001b[33mWARN: Casting input x to numpy array.\u001b[0m\n",
      "\u001b[2m\u001b[36m(RolloutWorker pid=5218)\u001b[0m   logger.warn(\"Casting input x to numpy array.\")\n",
      "\u001b[2m\u001b[36m(RolloutWorker pid=5219)\u001b[0m /home/brucexi2/anaconda3/lib/python3.10/site-packages/gym/spaces/box.py:142: UserWarning: \u001b[33mWARN: Casting input x to numpy array.\u001b[0m\n",
      "\u001b[2m\u001b[36m(RolloutWorker pid=5219)\u001b[0m   logger.warn(\"Casting input x to numpy array.\")\n",
      "\u001b[2m\u001b[36m(RolloutWorker pid=5218)\u001b[0m /home/brucexi2/anaconda3/lib/python3.10/site-packages/gym/spaces/box.py:142: UserWarning: \u001b[33mWARN: Casting input x to numpy array.\u001b[0m\n",
      "\u001b[2m\u001b[36m(RolloutWorker pid=5218)\u001b[0m   logger.warn(\"Casting input x to numpy array.\")\n",
      "\u001b[2m\u001b[36m(RolloutWorker pid=5219)\u001b[0m /home/brucexi2/anaconda3/lib/python3.10/site-packages/gym/spaces/box.py:142: UserWarning: \u001b[33mWARN: Casting input x to numpy array.\u001b[0m\n",
      "\u001b[2m\u001b[36m(RolloutWorker pid=5219)\u001b[0m   logger.warn(\"Casting input x to numpy array.\")\n",
      "\u001b[2m\u001b[36m(RolloutWorker pid=5218)\u001b[0m /home/brucexi2/anaconda3/lib/python3.10/site-packages/gym/spaces/box.py:142: UserWarning: \u001b[33mWARN: Casting input x to numpy array.\u001b[0m\n",
      "\u001b[2m\u001b[36m(RolloutWorker pid=5218)\u001b[0m   logger.warn(\"Casting input x to numpy array.\")\n",
      "\u001b[2m\u001b[36m(RolloutWorker pid=5219)\u001b[0m /home/brucexi2/anaconda3/lib/python3.10/site-packages/gym/spaces/box.py:142: UserWarning: \u001b[33mWARN: Casting input x to numpy array.\u001b[0m\n",
      "\u001b[2m\u001b[36m(RolloutWorker pid=5219)\u001b[0m   logger.warn(\"Casting input x to numpy array.\")\n",
      "\u001b[2m\u001b[36m(RolloutWorker pid=5218)\u001b[0m /home/brucexi2/anaconda3/lib/python3.10/site-packages/gym/spaces/box.py:142: UserWarning: \u001b[33mWARN: Casting input x to numpy array.\u001b[0m\n",
      "\u001b[2m\u001b[36m(RolloutWorker pid=5218)\u001b[0m   logger.warn(\"Casting input x to numpy array.\")\n",
      "\u001b[2m\u001b[36m(RolloutWorker pid=5333)\u001b[0m /home/brucexi2/anaconda3/lib/python3.10/site-packages/gym/spaces/box.py:142: UserWarning: \u001b[33mWARN: Casting input x to numpy array.\u001b[0m\n",
      "\u001b[2m\u001b[36m(RolloutWorker pid=5333)\u001b[0m   logger.warn(\"Casting input x to numpy array.\")\n",
      "\u001b[2m\u001b[36m(RolloutWorker pid=5332)\u001b[0m /home/brucexi2/anaconda3/lib/python3.10/site-packages/gym/spaces/box.py:142: UserWarning: \u001b[33mWARN: Casting input x to numpy array.\u001b[0m\n",
      "\u001b[2m\u001b[36m(RolloutWorker pid=5332)\u001b[0m   logger.warn(\"Casting input x to numpy array.\")\n",
      "\u001b[2m\u001b[36m(RolloutWorker pid=5219)\u001b[0m /home/brucexi2/anaconda3/lib/python3.10/site-packages/gym/spaces/box.py:142: UserWarning: \u001b[33mWARN: Casting input x to numpy array.\u001b[0m\n",
      "\u001b[2m\u001b[36m(RolloutWorker pid=5219)\u001b[0m   logger.warn(\"Casting input x to numpy array.\")\n",
      "\u001b[2m\u001b[36m(RolloutWorker pid=5218)\u001b[0m /home/brucexi2/anaconda3/lib/python3.10/site-packages/gym/spaces/box.py:142: UserWarning: \u001b[33mWARN: Casting input x to numpy array.\u001b[0m\n",
      "\u001b[2m\u001b[36m(RolloutWorker pid=5218)\u001b[0m   logger.warn(\"Casting input x to numpy array.\")\n",
      "\u001b[2m\u001b[36m(RolloutWorker pid=5219)\u001b[0m /home/brucexi2/anaconda3/lib/python3.10/site-packages/gym/spaces/box.py:142: UserWarning: \u001b[33mWARN: Casting input x to numpy array.\u001b[0m\n",
      "\u001b[2m\u001b[36m(RolloutWorker pid=5219)\u001b[0m   logger.warn(\"Casting input x to numpy array.\")\n",
      "\u001b[2m\u001b[36m(RolloutWorker pid=5218)\u001b[0m /home/brucexi2/anaconda3/lib/python3.10/site-packages/gym/spaces/box.py:142: UserWarning: \u001b[33mWARN: Casting input x to numpy array.\u001b[0m\n",
      "\u001b[2m\u001b[36m(RolloutWorker pid=5218)\u001b[0m   logger.warn(\"Casting input x to numpy array.\")\n",
      "\u001b[2m\u001b[36m(RolloutWorker pid=5219)\u001b[0m /home/brucexi2/anaconda3/lib/python3.10/site-packages/gym/spaces/box.py:142: UserWarning: \u001b[33mWARN: Casting input x to numpy array.\u001b[0m\n",
      "\u001b[2m\u001b[36m(RolloutWorker pid=5219)\u001b[0m   logger.warn(\"Casting input x to numpy array.\")\n",
      "\u001b[2m\u001b[36m(RolloutWorker pid=5218)\u001b[0m /home/brucexi2/anaconda3/lib/python3.10/site-packages/gym/spaces/box.py:142: UserWarning: \u001b[33mWARN: Casting input x to numpy array.\u001b[0m\n",
      "\u001b[2m\u001b[36m(RolloutWorker pid=5218)\u001b[0m   logger.warn(\"Casting input x to numpy array.\")\n",
      "\u001b[2m\u001b[36m(RolloutWorker pid=5219)\u001b[0m /home/brucexi2/anaconda3/lib/python3.10/site-packages/gym/spaces/box.py:142: UserWarning: \u001b[33mWARN: Casting input x to numpy array.\u001b[0m\n",
      "\u001b[2m\u001b[36m(RolloutWorker pid=5219)\u001b[0m   logger.warn(\"Casting input x to numpy array.\")\n",
      "\u001b[2m\u001b[36m(RolloutWorker pid=5218)\u001b[0m /home/brucexi2/anaconda3/lib/python3.10/site-packages/gym/spaces/box.py:142: UserWarning: \u001b[33mWARN: Casting input x to numpy array.\u001b[0m\n",
      "\u001b[2m\u001b[36m(RolloutWorker pid=5218)\u001b[0m   logger.warn(\"Casting input x to numpy array.\")\n",
      "\u001b[2m\u001b[36m(RolloutWorker pid=5219)\u001b[0m /home/brucexi2/anaconda3/lib/python3.10/site-packages/gym/spaces/box.py:142: UserWarning: \u001b[33mWARN: Casting input x to numpy array.\u001b[0m\n",
      "\u001b[2m\u001b[36m(RolloutWorker pid=5219)\u001b[0m   logger.warn(\"Casting input x to numpy array.\")\n",
      "\u001b[2m\u001b[36m(RolloutWorker pid=5218)\u001b[0m /home/brucexi2/anaconda3/lib/python3.10/site-packages/gym/spaces/box.py:142: UserWarning: \u001b[33mWARN: Casting input x to numpy array.\u001b[0m\n",
      "\u001b[2m\u001b[36m(RolloutWorker pid=5218)\u001b[0m   logger.warn(\"Casting input x to numpy array.\")\n",
      "\u001b[2m\u001b[36m(RolloutWorker pid=5218)\u001b[0m /home/brucexi2/anaconda3/lib/python3.10/site-packages/gym/spaces/box.py:142: UserWarning: \u001b[33mWARN: Casting input x to numpy array.\u001b[0m\n",
      "\u001b[2m\u001b[36m(RolloutWorker pid=5218)\u001b[0m   logger.warn(\"Casting input x to numpy array.\")\n",
      "\u001b[2m\u001b[36m(RolloutWorker pid=5219)\u001b[0m /home/brucexi2/anaconda3/lib/python3.10/site-packages/gym/spaces/box.py:142: UserWarning: \u001b[33mWARN: Casting input x to numpy array.\u001b[0m\n",
      "\u001b[2m\u001b[36m(RolloutWorker pid=5219)\u001b[0m   logger.warn(\"Casting input x to numpy array.\")\n",
      "2023-11-24 12:12:10,966\tINFO tune.py:762 -- Total run time: 6832.25 seconds (6831.52 seconds for the tuning loop).\n"
     ]
    }
   ],
   "source": [
    "experiment_results = tuner.fit()"
   ]
  },
  {
   "cell_type": "code",
   "execution_count": 12,
   "metadata": {},
   "outputs": [
    {
     "name": "stderr",
     "output_type": "stream",
     "text": [
      "2023-11-24 12:24:47,102\tINFO algorithm.py:501 -- Current log_level is WARN. For more information, set 'log_level': 'INFO' / 'DEBUG' or use the -v and -vv flags.\n",
      "\u001b[2m\u001b[36m(RolloutWorker pid=11991)\u001b[0m 2023-11-24 12:24:50,975\tWARNING env.py:147 -- Your env doesn't have a .spec.max_episode_steps attribute. This is fine if you have set 'horizon' in your config dictionary, or `soft_horizon`. However, if you haven't, 'horizon' will default to infinity, and your environment will not be reset.\n",
      "\u001b[2m\u001b[36m(RolloutWorker pid=11991)\u001b[0m /home/brucexi2/anaconda3/lib/python3.10/site-packages/gym/spaces/box.py:142: UserWarning: \u001b[33mWARN: Casting input x to numpy array.\u001b[0m\n",
      "\u001b[2m\u001b[36m(RolloutWorker pid=11991)\u001b[0m   logger.warn(\"Casting input x to numpy array.\")\n",
      "\u001b[2m\u001b[36m(RolloutWorker pid=11991)\u001b[0m 2023-11-24 12:24:50,984\tWARNING catalog.py:637 -- Custom ModelV2 should accept all custom options as **kwargs, instead of expecting them in config['custom_model_config']!\n",
      "\u001b[2m\u001b[36m(RolloutWorker pid=11992)\u001b[0m /home/brucexi2/anaconda3/lib/python3.10/site-packages/gym/spaces/box.py:142: UserWarning: \u001b[33mWARN: Casting input x to numpy array.\u001b[0m\n",
      "\u001b[2m\u001b[36m(RolloutWorker pid=11992)\u001b[0m   logger.warn(\"Casting input x to numpy array.\")\n",
      "\u001b[2m\u001b[36m(RolloutWorker pid=11992)\u001b[0m 2023-11-24 12:24:50,990\tWARNING catalog.py:637 -- Custom ModelV2 should accept all custom options as **kwargs, instead of expecting them in config['custom_model_config']!\n",
      "2023-11-24 12:24:51,241\tWARNING catalog.py:637 -- Custom ModelV2 should accept all custom options as **kwargs, instead of expecting them in config['custom_model_config']!\n",
      "\u001b[2m\u001b[36m(RolloutWorker pid=12089)\u001b[0m /home/brucexi2/anaconda3/lib/python3.10/site-packages/gym/spaces/box.py:142: UserWarning: \u001b[33mWARN: Casting input x to numpy array.\u001b[0m\n",
      "\u001b[2m\u001b[36m(RolloutWorker pid=12089)\u001b[0m   logger.warn(\"Casting input x to numpy array.\")\n",
      "\u001b[2m\u001b[36m(RolloutWorker pid=12089)\u001b[0m 2023-11-24 12:24:55,314\tWARNING catalog.py:637 -- Custom ModelV2 should accept all custom options as **kwargs, instead of expecting them in config['custom_model_config']!\n",
      "\u001b[2m\u001b[36m(RolloutWorker pid=12088)\u001b[0m 2023-11-24 12:24:55,311\tWARNING env.py:147 -- Your env doesn't have a .spec.max_episode_steps attribute. This is fine if you have set 'horizon' in your config dictionary, or `soft_horizon`. However, if you haven't, 'horizon' will default to infinity, and your environment will not be reset.\n",
      "\u001b[2m\u001b[36m(RolloutWorker pid=12088)\u001b[0m /home/brucexi2/anaconda3/lib/python3.10/site-packages/gym/spaces/box.py:142: UserWarning: \u001b[33mWARN: Casting input x to numpy array.\u001b[0m\n",
      "\u001b[2m\u001b[36m(RolloutWorker pid=12088)\u001b[0m   logger.warn(\"Casting input x to numpy array.\")\n",
      "\u001b[2m\u001b[36m(RolloutWorker pid=12088)\u001b[0m 2023-11-24 12:24:55,321\tWARNING catalog.py:637 -- Custom ModelV2 should accept all custom options as **kwargs, instead of expecting them in config['custom_model_config']!\n",
      "2023-11-24 12:24:55,545\tWARNING util.py:66 -- Install gputil for GPU system monitoring.\n",
      "2023-11-24 12:24:55,549\tWARNING algorithm_config.py:488 -- Cannot create PPOConfig from given `config_dict`! Property __stdout_file__ not supported.\n",
      "2023-11-24 12:24:55,613\tINFO trainable.py:790 -- Restored on 10.0.0.82 from checkpoint: /home/brucexi2/UBC-EECE571F/checkpoint/trial/PPO_2023-11-24_10-18-08/PPO_simple_env_d7cbc_00000_0_2023-11-24_10-18-18/checkpoint_000020\n",
      "2023-11-24 12:24:55,613\tINFO trainable.py:799 -- Current state after restoring: {'_iteration': 20, '_timesteps_total': None, '_time_total': 6818.207003116608, '_episodes_total': 9835}\n"
     ]
    }
   ],
   "source": [
    "ckpt = \"/home/brucexi2/UBC-EECE571F/checkpoint/trial/PPO_2023-11-24_10-18-08/PPO_simple_env_d7cbc_00000_0_2023-11-24_10-18-18/checkpoint_000020\"\n",
    "algo = config.build()\n",
    "algo.restore(ckpt)"
   ]
  },
  {
   "cell_type": "code",
   "execution_count": null,
   "metadata": {},
   "outputs": [
    {
     "name": "stderr",
     "output_type": "stream",
     "text": [
      "\u001b[2m\u001b[36m(RolloutWorker pid=27580)\u001b[0m /home/brucexi2/.local/lib/python3.10/site-packages/gymnasium/spaces/box.py:230: UserWarning: \u001b[33mWARN: Casting input x to numpy array.\u001b[0m\n",
      "\u001b[2m\u001b[36m(RolloutWorker pid=27580)\u001b[0m   gym.logger.warn(\"Casting input x to numpy array.\")\n",
      "2023-11-19 18:06:39,556\tWARNING deprecation.py:50 -- DeprecationWarning: `ray.rllib.execution.train_ops.multi_gpu_train_one_step` has been deprecated. This will raise an error in the future!\n",
      "2023-11-19 18:13:05,647\tWARNING ppo.py:558 -- The mean reward returned from the environment is 14.47825 but the vf_clip_param is set to 10.0. Consider increasing it for policy: default_policy to improve value function convergence.\n",
      "\u001b[2m\u001b[36m(RolloutWorker pid=27580)\u001b[0m /home/brucexi2/.local/lib/python3.10/site-packages/gymnasium/spaces/box.py:230: UserWarning: \u001b[33mWARN: Casting input x to numpy array.\u001b[0m\u001b[32m [repeated 2x across cluster]\u001b[0m\n",
      "\u001b[2m\u001b[36m(RolloutWorker pid=27580)\u001b[0m   gym.logger.warn(\"Casting input x to numpy array.\")\u001b[32m [repeated 2x across cluster]\u001b[0m\n",
      "\u001b[2m\u001b[36m(RolloutWorker pid=27581)\u001b[0m /home/brucexi2/.local/lib/python3.10/site-packages/gymnasium/spaces/box.py:230: UserWarning: \u001b[33mWARN: Casting input x to numpy array.\u001b[0m\u001b[32m [repeated 2x across cluster]\u001b[0m\n",
      "\u001b[2m\u001b[36m(RolloutWorker pid=27581)\u001b[0m   gym.logger.warn(\"Casting input x to numpy array.\")\u001b[32m [repeated 2x across cluster]\u001b[0m\n",
      "\u001b[2m\u001b[36m(RolloutWorker pid=27580)\u001b[0m /home/brucexi2/.local/lib/python3.10/site-packages/gymnasium/spaces/box.py:230: UserWarning: \u001b[33mWARN: Casting input x to numpy array.\u001b[0m\u001b[32m [repeated 2x across cluster]\u001b[0m\n",
      "\u001b[2m\u001b[36m(RolloutWorker pid=27580)\u001b[0m   gym.logger.warn(\"Casting input x to numpy array.\")\u001b[32m [repeated 2x across cluster]\u001b[0m\n",
      "\u001b[2m\u001b[36m(RolloutWorker pid=27580)\u001b[0m /home/brucexi2/.local/lib/python3.10/site-packages/gymnasium/spaces/box.py:230: UserWarning: \u001b[33mWARN: Casting input x to numpy array.\u001b[0m\u001b[32m [repeated 2x across cluster]\u001b[0m\n",
      "\u001b[2m\u001b[36m(RolloutWorker pid=27580)\u001b[0m   gym.logger.warn(\"Casting input x to numpy array.\")\u001b[32m [repeated 2x across cluster]\u001b[0m\n",
      "\u001b[2m\u001b[36m(RolloutWorker pid=27580)\u001b[0m /home/brucexi2/.local/lib/python3.10/site-packages/gymnasium/spaces/box.py:230: UserWarning: \u001b[33mWARN: Casting input x to numpy array.\u001b[0m\u001b[32m [repeated 2x across cluster]\u001b[0m\n",
      "\u001b[2m\u001b[36m(RolloutWorker pid=27580)\u001b[0m   gym.logger.warn(\"Casting input x to numpy array.\")\u001b[32m [repeated 2x across cluster]\u001b[0m\n",
      "\u001b[2m\u001b[36m(RolloutWorker pid=27581)\u001b[0m /home/brucexi2/.local/lib/python3.10/site-packages/gymnasium/spaces/box.py:230: UserWarning: \u001b[33mWARN: Casting input x to numpy array.\u001b[0m\u001b[32m [repeated 2x across cluster]\u001b[0m\n",
      "\u001b[2m\u001b[36m(RolloutWorker pid=27581)\u001b[0m   gym.logger.warn(\"Casting input x to numpy array.\")\u001b[32m [repeated 2x across cluster]\u001b[0m\n",
      "\u001b[2m\u001b[36m(RolloutWorker pid=27580)\u001b[0m /home/brucexi2/.local/lib/python3.10/site-packages/gymnasium/spaces/box.py:230: UserWarning: \u001b[33mWARN: Casting input x to numpy array.\u001b[0m\u001b[32m [repeated 2x across cluster]\u001b[0m\n",
      "\u001b[2m\u001b[36m(RolloutWorker pid=27580)\u001b[0m   gym.logger.warn(\"Casting input x to numpy array.\")\u001b[32m [repeated 2x across cluster]\u001b[0m\n",
      "\u001b[2m\u001b[36m(RolloutWorker pid=27581)\u001b[0m /home/brucexi2/.local/lib/python3.10/site-packages/gymnasium/spaces/box.py:230: UserWarning: \u001b[33mWARN: Casting input x to numpy array.\u001b[0m\u001b[32m [repeated 2x across cluster]\u001b[0m\n",
      "\u001b[2m\u001b[36m(RolloutWorker pid=27581)\u001b[0m   gym.logger.warn(\"Casting input x to numpy array.\")\u001b[32m [repeated 2x across cluster]\u001b[0m\n",
      "\u001b[2m\u001b[36m(RolloutWorker pid=27580)\u001b[0m /home/brucexi2/.local/lib/python3.10/site-packages/gymnasium/spaces/box.py:230: UserWarning: \u001b[33mWARN: Casting input x to numpy array.\u001b[0m\u001b[32m [repeated 2x across cluster]\u001b[0m\n",
      "\u001b[2m\u001b[36m(RolloutWorker pid=27580)\u001b[0m   gym.logger.warn(\"Casting input x to numpy array.\")\u001b[32m [repeated 2x across cluster]\u001b[0m\n",
      "\u001b[2m\u001b[36m(RolloutWorker pid=27580)\u001b[0m /home/brucexi2/.local/lib/python3.10/site-packages/gymnasium/spaces/box.py:230: UserWarning: \u001b[33mWARN: Casting input x to numpy array.\u001b[0m\u001b[32m [repeated 2x across cluster]\u001b[0m\n",
      "\u001b[2m\u001b[36m(RolloutWorker pid=27580)\u001b[0m   gym.logger.warn(\"Casting input x to numpy array.\")\u001b[32m [repeated 2x across cluster]\u001b[0m\n",
      "\u001b[2m\u001b[36m(RolloutWorker pid=27580)\u001b[0m /home/brucexi2/.local/lib/python3.10/site-packages/gymnasium/spaces/box.py:230: UserWarning: \u001b[33mWARN: Casting input x to numpy array.\u001b[0m\u001b[32m [repeated 2x across cluster]\u001b[0m\n",
      "\u001b[2m\u001b[36m(RolloutWorker pid=27580)\u001b[0m   gym.logger.warn(\"Casting input x to numpy array.\")\u001b[32m [repeated 2x across cluster]\u001b[0m\n",
      "\u001b[2m\u001b[36m(RolloutWorker pid=27580)\u001b[0m /home/brucexi2/.local/lib/python3.10/site-packages/gymnasium/spaces/box.py:230: UserWarning: \u001b[33mWARN: Casting input x to numpy array.\u001b[0m\u001b[32m [repeated 2x across cluster]\u001b[0m\n",
      "\u001b[2m\u001b[36m(RolloutWorker pid=27580)\u001b[0m   gym.logger.warn(\"Casting input x to numpy array.\")\u001b[32m [repeated 2x across cluster]\u001b[0m\n",
      "\u001b[2m\u001b[36m(RolloutWorker pid=27580)\u001b[0m /home/brucexi2/.local/lib/python3.10/site-packages/gymnasium/spaces/box.py:230: UserWarning: \u001b[33mWARN: Casting input x to numpy array.\u001b[0m\u001b[32m [repeated 2x across cluster]\u001b[0m\n",
      "\u001b[2m\u001b[36m(RolloutWorker pid=27580)\u001b[0m   gym.logger.warn(\"Casting input x to numpy array.\")\u001b[32m [repeated 2x across cluster]\u001b[0m\n",
      "\u001b[2m\u001b[36m(RolloutWorker pid=27653)\u001b[0m /home/brucexi2/.local/lib/python3.10/site-packages/gymnasium/spaces/box.py:230: UserWarning: \u001b[33mWARN: Casting input x to numpy array.\u001b[0m\u001b[32m [repeated 2x across cluster]\u001b[0m\n",
      "\u001b[2m\u001b[36m(RolloutWorker pid=27653)\u001b[0m   gym.logger.warn(\"Casting input x to numpy array.\")\u001b[32m [repeated 2x across cluster]\u001b[0m\n"
     ]
    },
    {
     "data": {
      "image/png": "[encoded data removed]",
      "text/plain": [
       "<Figure size 640x480 with 1 Axes>"
      ]
     },
     "metadata": {},
     "output_type": "display_data"
    }
   ],
   "source": [
    "# train the policy for 10 iterations, also plot the mean reward vs iteration \n",
    "rewards = []\n",
    "for i in range (15):\n",
    "    result = algo.train()\n",
    "    rewards.append(result[\"episode_reward_mean\"])\n",
    "plt.plot(rewards)\n",
    "plt.show()"
   ]
  },
  {
   "cell_type": "code",
   "execution_count": 93,
   "metadata": {},
   "outputs": [
    {
     "name": "stdout",
     "output_type": "stream",
     "text": [
      "1\n",
      "0\n",
      "1\n",
      "1\n",
      "0\n",
      "cumulative reward: 96\n"
     ]
    },
    {
     "data": {
      "image/png": "[encoded data removed]",
      "text/plain": [
       "<Figure size 640x480 with 1 Axes>"
      ]
     },
     "metadata": {},
     "output_type": "display_data"
    }
   ],
   "source": [
    "# run inference\n",
    "num_episodes = 1\n",
    "env= SimpleEnv(length, width, [(0,0), (3,2)], macros, edge_capacity)\n",
    "for ep in range(num_episodes):\n",
    "    total_reward = 0\n",
    "    obs = env.reset()\n",
    "    done = False\n",
    "    while True:\n",
    "        action = algo.compute_single_action(observation=obs)\n",
    "        print(action)\n",
    "        obs, reward, done, info = env.step(action)\n",
    "        #print(obs)\n",
    "        total_reward += reward\n",
    "        \n",
    "        if done:\n",
    "            break\n",
    "        \n",
    "    print(f\"cumulative reward: {total_reward}\")\n",
    "    env.render()"
   ]
  },
  {
   "cell_type": "code",
   "execution_count": null,
   "metadata": {},
   "outputs": [],
   "source": [
    "# release the resources\n",
    "algo.stop()\n",
    "ray.shutdown()"
   ]
  }
 ],
 "metadata": {
  "kernelspec": {
   "display_name": "base",
   "language": "python",
   "name": "python3"
  },
  "language_info": {
   "codemirror_mode": {
    "name": "ipython",
    "version": 3
   },
   "file_extension": ".py",
   "mimetype": "text/x-python",
   "name": "python",
   "nbconvert_exporter": "python",
   "pygments_lexer": "ipython3",
   "version": "3.10.9"
  }
 },
 "nbformat": 4,
 "nbformat_minor": 2
}
